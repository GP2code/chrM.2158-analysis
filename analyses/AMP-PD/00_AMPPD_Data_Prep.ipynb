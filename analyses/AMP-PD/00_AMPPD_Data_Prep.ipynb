{
 "cells": [
  {
   "cell_type": "markdown",
   "id": "73917832",
   "metadata": {},
   "source": [
    "# Association of chrM2158T>C variant with PD risk in AMP-PD\n",
    "* **Project:** Mitochondrial 2158T>C variant in PD\n",
    "* **Version:** Python/3.9\n",
    "* **Status:** COMPLETE\n",
    "* **Last Updated:** 07-APRIL-2024\n",
    "\n",
    "### Notebook Overview\n",
    "Use `GenomeAnalysisToolkit` to genotype chrM from WGS of 1,914 PD cases and 902 controls in AMP-PD"
   ]
  },
  {
   "cell_type": "code",
   "execution_count": null,
   "id": "a37284cc",
   "metadata": {
    "vscode": {
     "languageId": "plaintext"
    }
   },
   "outputs": [],
   "source": [
    "module load GATK/4.4.0.0\n",
    "for i in `cat list_of_PPMI_samples` ; do gatk --java-options \"-Xmx30g\" Mutect2 -R {WORK_DIR}/Homo_sapiens_assembly38.fasta -L chrM  --mitochondria-mode -I ${WORK_DIR}/PPMI/SRS_WGS_hg38_CRAMS/\"$i\".cram -O M_\"$i\".vcf.gz ; done"
   ]
  },
  {
   "cell_type": "code",
   "execution_count": null,
   "id": "185a6837",
   "metadata": {},
   "outputs": [],
   "source": [
    "module load plink/2.0-alpha\n",
    "for i in `cat list_of_PPMI_samples` ;  ; done\n",
    "plink2 --vcf \"$i\".vcf.gz --make-bed --double-id --out ppp/\"$i\"_chr2158 --chr MT --from-bp 2158 --to-bp 2158"
   ]
  },
  {
   "cell_type": "code",
   "execution_count": null,
   "id": "b88e14cd",
   "metadata": {},
   "outputs": [],
   "source": [
    "#merge all ppmi samples\n",
    "plink --merge-list merge_ppmi --make-bed --out ppp_merged\n",
    "plink --bfile ppp_merged --fill-missing-a2 --make-bed --out ppp_merged_upd"
   ]
  },
  {
   "cell_type": "code",
   "execution_count": 2,
   "id": "a206f023",
   "metadata": {},
   "outputs": [
    {
     "name": "stdout",
     "output_type": "stream",
     "text": [
      "bf_merged_upd.bed\tbf_merged_upd.bim\tbf_merged_upd.fam\n",
      "hb_merged_upd.bed\thb_merged_upd.bim\thb_merged_upd.fam\n",
      "pd_merged_upd.bed\tpd_merged_upd.bim\tpd_merged_upd.fam\n",
      "ppp_merged_upd.bed\tppp_merged_upd.bim\tppp_merged_upd.fam\n"
     ]
    }
   ],
   "source": [
    "cat merge_amp"
   ]
  },
  {
   "cell_type": "code",
   "execution_count": null,
   "id": "dcc2be53",
   "metadata": {},
   "outputs": [],
   "source": [
    "plink --merge-list merge_amp --make-bed --out merged_all_amppd\n",
    "plink --bfile merged_all_amppd --fill-missing-a2 --make-bed --out merged_all_amppd_filled"
   ]
  },
  {
   "cell_type": "code",
   "execution_count": null,
   "id": "675acaf2",
   "metadata": {},
   "outputs": [],
   "source": [
    "#prepare covariate file"
   ]
  },
  {
   "cell_type": "code",
   "execution_count": 5,
   "id": "563daf79",
   "metadata": {},
   "outputs": [],
   "source": [
    "cp ${WORK_DIR}/PD/AMP-PD/release2.5_COVFILE/encoded_AMP_covs_SEPT2021_allPCs_PD_PHENO.csv ."
   ]
  },
  {
   "cell_type": "code",
   "execution_count": 7,
   "id": "2805d0f7",
   "metadata": {},
   "outputs": [],
   "source": [
    "sed 's/,/ /g' encoded_AMP_covs_SEPT2021_allPCs_PD_PHENO.csv > AMPPD_covars"
   ]
  },
  {
   "cell_type": "code",
   "execution_count": null,
   "id": "de5cb2ee",
   "metadata": {},
   "outputs": [],
   "source": [
    "module load plink/2.0-alpha\n",
    "plink2 --bfile merged_all_amppd_filled --glm firth-fallback --covar AMPPD_covars --covar-name AGE,SEX,PC1,PC2,PC3,PC4,PC5,PC6,PC7,PC8,PC9,PC10 \\\n",
    "--pheno AMPPD_pheno --out AMPPD_chrm --covar-variance-standardize --ci 0.95"
   ]
  },
  {
   "cell_type": "code",
   "execution_count": null,
   "id": "0a84335d",
   "metadata": {},
   "outputs": [],
   "source": []
  }
 ],
 "metadata": {
  "kernelspec": {
   "display_name": "Bash",
   "language": "bash",
   "name": "bash"
  },
  "language_info": {
   "codemirror_mode": "shell",
   "file_extension": ".sh",
   "mimetype": "text/x-sh",
   "name": "bash"
  }
 },
 "nbformat": 4,
 "nbformat_minor": 5
}
