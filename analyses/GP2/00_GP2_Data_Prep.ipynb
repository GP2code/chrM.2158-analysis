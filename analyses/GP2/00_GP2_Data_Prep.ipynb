{
 "cells": [
  {
   "cell_type": "markdown",
   "metadata": {},
   "source": [
    "# Data Preparation\n",
    "* **Project:** Mitochondrial 2158T>C variant in PD\n",
    "* **Version:** Python/3.9\n",
    "* **Status:** COMPLETE\n",
    "* **Last Updated:** 14-MARCH-2024"
   ]
  },
  {
   "cell_type": "markdown",
   "metadata": {},
   "source": [
    "### Notebook Overview\n",
    "- Perform GenomeAnalysisToolkit to genotype chrM from WGS of 922 PD cases and 229 controls in GP2 monogenic cohort"
   ]
  },
  {
   "cell_type": "code",
   "execution_count": null,
   "metadata": {},
   "outputs": [],
   "source": [
    "# Download reference genome and index\n",
    "!gsutil -o 'GSUtil:parallel_thread_count=30' -u {BILLING_PROJECT_ID} -m cp -r gs://gcp-public-data--broad-references/hg38/v0/Homo_sapiens_assembly38.fasta .\n",
    "!gsutil -o 'GSUtil:parallel_thread_count=10' -u {BILLING_PROJECT_ID} -m cp -r gs://gcp-public-data--broad-references/hg38/v0/Homo_sapiens_assembly38.fasta.fai .     "
   ]
  },
  {
   "cell_type": "code",
   "execution_count": null,
   "metadata": {},
   "outputs": [],
   "source": [
    "#Download CRAM and index files available in GP2 monogenic cohort releaase 6, perform variant calling and delete CRAM files\n",
    "!for i in `cat list_of_cram_prefix_1`  ; do \\\n",
    "    gsutil -o 'GSUtil:parallel_thread_count=30' -u {BILLING_PROJECT_ID} -m cp -r gs://{AMP-PD-GENOMICS}/samples/wgs/gatk/cram/PD-\"$i\"/PD-\"$i\".cram* . ; \\\n",
    "    gatk --java-options \"-Xmx20g\" Mutect2 -R Homo_sapiens_assembly38.fasta -L chrM  --mitochondria-mode -I PD-\"$i\".cram -O M_PD-\"$i\".cram.vcf.gz ; \\\n",
    "    rm PD-\"$i\".cram ; \\\n",
    "done "
   ]
  },
  {
   "cell_type": "code",
   "execution_count": null,
   "metadata": {},
   "outputs": [],
   "source": [
    "#Copy the results to the bucket\n",
    "import os\n",
    "BILLING_PROJECT_ID = os.environ['WORKSPACE_NAMESPACE']\n",
    "WORKSPACE = os.environ['WORKSPACE_NAME']\n",
    "bucket = os.environ['WORKSPACE_BUCKET']\n",
    "!gsutil cp ./*cram.vcf.gz $bucket"
   ]
  }
 ],
 "metadata": {
  "jupytext": {
   "formats": "ipynb,py:light"
  },
  "kernelspec": {
   "display_name": "Python 3",
   "language": "python",
   "name": "python3"
  },
  "language_info": {
   "codemirror_mode": {
    "name": "ipython",
    "version": 3
   },
   "file_extension": ".py",
   "mimetype": "text/x-python",
   "name": "python",
   "nbconvert_exporter": "python",
   "pygments_lexer": "ipython3",
   "version": "3.10.12"
  },
  "toc": {
   "base_numbering": 1,
   "nav_menu": {},
   "number_sections": true,
   "sideBar": true,
   "skip_h1_title": false,
   "title_cell": "Table of Contents",
   "title_sidebar": "Contents",
   "toc_cell": false,
   "toc_position": {},
   "toc_section_display": true,
   "toc_window_display": false
  }
 },
 "nbformat": 4,
 "nbformat_minor": 2
}
