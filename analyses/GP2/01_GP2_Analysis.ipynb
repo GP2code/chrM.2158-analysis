{
 "cells": [
  {
   "cell_type": "markdown",
   "id": "1f6494f3",
   "metadata": {},
   "source": [
    "# Regression Adjusted by Covariates \n",
    "* **Project:** Mitochondrial 2158T>C variant in PD\n",
    "* **Version:** Python/3.9\n",
    "* **Status:** COMPLETE\n",
    "* **Last Updated:** 14-MARCH-2024"
   ]
  },
  {
   "cell_type": "markdown",
   "id": "16aabc3d",
   "metadata": {},
   "source": [
    "### Notebook Overview\n",
    "1. Obtain relevant covariates, age, sex, and principal components for WGS samples of 922 PD cases and 229 controls in GP2 monogenic cohort\n",
    "2. Logistic regression adjusted by covariates"
   ]
  },
  {
   "cell_type": "markdown",
   "id": "0a7f7790",
   "metadata": {},
   "source": [
    "## Loading necessary packages"
   ]
  },
  {
   "cell_type": "code",
   "execution_count": null,
   "id": "aa55477d",
   "metadata": {},
   "outputs": [],
   "source": [
    "## Load required packages\n",
    "module load bcftools\n",
    "module load plink/2.0-alpha"
   ]
  },
  {
   "cell_type": "markdown",
   "id": "257a0745",
   "metadata": {},
   "source": [
    "## Reading in files"
   ]
  },
  {
   "cell_type": "code",
   "execution_count": null,
   "id": "571aff92",
   "metadata": {},
   "outputs": [],
   "source": [
    "# list of the GP2 samples with EUR ancestry and manifest for genomefile\n",
    "head -3 manifest_eur"
   ]
  },
  {
   "cell_type": "code",
   "execution_count": null,
   "id": "5a416fe9",
   "metadata": {},
   "outputs": [],
   "source": [
    "#PCA estimation for GP2-EUR samples\n",
    "plink2 --pfile ${WORK_DIR}/Monogenic_SV/all_chrs --make-bed --max-alleles 2 --maf 0.05 --geno 0.01 \\\n",
    "--out GP2-mono_005\n",
    "plink2 --bfile GP2-mono_005 --indep-pairwise 200 50 0.25 --out GP2_eur_005\n",
    "plink2 --bfile GP2-mono_005 --extract GP2_eur_005.prune.in --pca --out GP2_mono_pc\n",
    "head -3 GP2_mono_pc.eigenvec"
   ]
  },
  {
   "cell_type": "code",
   "execution_count": null,
   "id": "2b501b1d",
   "metadata": {},
   "outputs": [],
   "source": [
    "#check the covariate file \n",
    "head -3 GP2_allcovar"
   ]
  },
  {
   "cell_type": "code",
   "execution_count": null,
   "id": "c50f6035",
   "metadata": {},
   "outputs": [],
   "source": [
    "#merge all vcfs\n",
    "bcftools merge *.vcf.gz -Oz -o merged_GP2_chrm2158.vcf.gz --force-samples -r chrM:2157-2159"
   ]
  },
  {
   "cell_type": "code",
   "execution_count": null,
   "id": "7f7fd491",
   "metadata": {},
   "outputs": [],
   "source": [
    "# Convert vcf into plink file and fill reference allele\n",
    "# As Mutect2 does not provide joint calls, \n",
    "# we assume all non-mutated alleles are reference alleles in the PLINK format\n",
    "plink2 --vcf merged_GP2_chrm2158.vcf.gz --max-alleles 2 --make-bed --double-id --out merged_GP2_chrm2158\n",
    "module load plink/1.9.0-beta4.4\n",
    "cut -f8 manifest_eur > manifest_genomeid\n",
    "plink --bfile merged_GP2_chrm2158 --keep-fam manifest_genomeid --fill-missing-a2 --make-bed --out merged_GP2_chrm2158_upd"
   ]
  },
  {
   "cell_type": "code",
   "execution_count": null,
   "id": "c9a35ecc",
   "metadata": {},
   "outputs": [],
   "source": [
    "#logistic regression adjusted by age, sex, and principal components\n",
    "module load plink/2.0-alpha\n",
    "plink2 --bfile merged_GP2_chrm2158_upd --glm firth-fallback --covar GP2_allcovar \\\n",
    "--covar-name age_covar,sex_for_qc,PC1,PC2,PC3,PC4,PC5,PC6,PC7,PC8,PC9,PC10 \\\n",
    "--pheno GP2_allcovar --pheno-name phenotype --out GP2_chrM --covar-variance-standardize --ci 0.95 --vif 300"
   ]
  },
  {
   "cell_type": "code",
   "execution_count": 1,
   "id": "6fd76d80",
   "metadata": {},
   "outputs": [
    {
     "name": "stdout",
     "output_type": "stream",
     "text": [
      "#CHROM\tPOS\tID\tREF\tALT\tA1\tFIRTH?\tTEST\tOBS_CT\tOR\tLOG(OR)_SE\tL95\tU95\tZ_STAT\tP\tERRCODE\n",
      "MT\t\u001b[01;31m\u001b[K2158\u001b[m\u001b[K\t.\tT\tC\tC\tN\tADD\t1005\t0.318592\t1.72112\t0.0109198\t9.29513\t-0.664593\t0.506311\t.\n",
      "MT\t\u001b[01;31m\u001b[K2158\u001b[m\u001b[K\t.\tT\tC\tC\tN\tsex_for_qc\t1005\t1.33996\t0.0958628\t1.11044\t1.61693\t3.05273\t0.0022677\t.\n",
      "MT\t\u001b[01;31m\u001b[K2158\u001b[m\u001b[K\t.\tT\tC\tC\tN\tage_covar\t1005\t1.89469\t0.0944976\t1.57435\t2.28021\t6.76264\t1.35499e-11\t.\n",
      "MT\t\u001b[01;31m\u001b[K2158\u001b[m\u001b[K\t.\tT\tC\tC\tN\tPC1\t1005\t2.0111\t0.439749\t0.849413\t4.76156\t1.58882\t0.112101\t.\n",
      "MT\t\u001b[01;31m\u001b[K2158\u001b[m\u001b[K\t.\tT\tC\tC\tN\tPC2\t1005\t0.304818\t0.554686\t0.102776\t0.904045\t-2.14183\t0.0322074\t.\n",
      "MT\t\u001b[01;31m\u001b[K2158\u001b[m\u001b[K\t.\tT\tC\tC\tN\tPC3\t1005\t0.553196\t0.395982\t0.254577\t1.2021\t-1.49512\t0.134882\t.\n",
      "MT\t\u001b[01;31m\u001b[K2158\u001b[m\u001b[K\t.\tT\tC\tC\tN\tPC4\t1005\t0.0508494\t0.904457\t0.00863795\t0.299337\t-3.29356\t0.000989256\t.\n",
      "MT\t\u001b[01;31m\u001b[K2158\u001b[m\u001b[K\t.\tT\tC\tC\tN\tPC5\t1005\t0.0930588\t0.518395\t0.0336898\t0.257049\t-4.58053\t4.63809e-06\t.\n",
      "MT\t\u001b[01;31m\u001b[K2158\u001b[m\u001b[K\t.\tT\tC\tC\tN\tPC6\t1005\t0.36071\t0.579879\t0.115762\t1.12396\t-1.75844\t0.0786727\t.\n",
      "MT\t\u001b[01;31m\u001b[K2158\u001b[m\u001b[K\t.\tT\tC\tC\tN\tPC7\t1005\t0.974245\t0.146802\t0.730652\t1.29905\t-0.177737\t0.85893\t.\n",
      "MT\t\u001b[01;31m\u001b[K2158\u001b[m\u001b[K\t.\tT\tC\tC\tN\tPC8\t1005\t1.18566\t0.147123\t0.888646\t1.58194\t1.15753\t0.247057\t.\n",
      "MT\t\u001b[01;31m\u001b[K2158\u001b[m\u001b[K\t.\tT\tC\tC\tN\tPC9\t1005\t0.883087\t0.0963842\t0.731073\t1.06671\t-1.28996\t0.197063\t.\n",
      "MT\t\u001b[01;31m\u001b[K2158\u001b[m\u001b[K\t.\tT\tC\tC\tN\tPC10\t1005\t0.804105\t0.149486\t0.599888\t1.07784\t-1.4585\t0.144702\t.\n"
     ]
    }
   ],
   "source": [
    "head -1 GP2_chrM.phenotype.glm.logistic.hybrid\n",
    "grep 2158 GP2_chrM.phenotype.glm.logistic.hybrid"
   ]
  },
  {
   "cell_type": "code",
   "execution_count": null,
   "id": "8d27d384",
   "metadata": {},
   "outputs": [],
   "source": []
  }
 ],
 "metadata": {
  "kernelspec": {
   "display_name": "Bash",
   "language": "bash",
   "name": "bash"
  },
  "language_info": {
   "codemirror_mode": "shell",
   "file_extension": ".sh",
   "mimetype": "text/x-sh",
   "name": "bash"
  }
 },
 "nbformat": 4,
 "nbformat_minor": 5
}
